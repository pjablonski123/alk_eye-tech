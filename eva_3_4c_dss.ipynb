{
  "nbformat": 4,
  "nbformat_minor": 0,
  "metadata": {
    "colab": {
      "name": "eva-alk-p1",
      "provenance": [],
      "mount_file_id": "1WtcXGZobVoQKAOrrx5amxD0mD1fRfnNa",
      "authorship_tag": "ABX9TyN7PRcBxneClKB3B5FBZprA",
      "include_colab_link": true
    },
    "kernelspec": {
      "name": "python3",
      "display_name": "Python 3"
    },
    "accelerator": "GPU"
  },
  "cells": [
    {
      "cell_type": "markdown",
      "metadata": {
        "id": "view-in-github",
        "colab_type": "text"
      },
      "source": [
        "<a href=\"https://colab.research.google.com/github/pjablonski123/alk_eye-tech/blob/master/eva_3_4c_dss.ipynb\" target=\"_parent\"><img src=\"https://colab.research.google.com/assets/colab-badge.svg\" alt=\"Open In Colab\"/></a>"
      ]
    },
    {
      "cell_type": "code",
      "metadata": {
        "id": "Clh5cxfJ3RHq"
      },
      "source": [
        "import keras\n",
        "import numpy as np\n",
        "from keras.preprocessing.image import ImageDataGenerator \n",
        "from keras.applications.inception_v3 import InceptionV3\n",
        "from keras.applications import VGG16\n",
        "from keras.layers import Dense, GlobalAveragePooling2D, Dropout\n",
        "from keras.preprocessing.image import ImageDataGenerator, load_img, img_to_array\n",
        "from keras.models import Model \n",
        "from keras.models import Sequential\n",
        "from keras import optimizers \n",
        "from keras import layers\n",
        "from keras import models\n",
        "import matplotlib.pyplot as plt \n",
        "%matplotlib inline\n",
        "from keras.models import load_model"
      ],
      "execution_count": 1,
      "outputs": []
    },
    {
      "cell_type": "code",
      "metadata": {
        "id": "VL9QkOFPs0KJ"
      },
      "source": [
        "import tensorflow as tf\n",
        "\n",
        "#pretrained = tf.keras.applications.inception_v3.InceptionV3(layers=tf.keras.layers, weights='imagenet')"
      ],
      "execution_count": 2,
      "outputs": []
    },
    {
      "cell_type": "code",
      "metadata": {
        "id": "c_4Q70Ly3Wlf",
        "outputId": "f35e43c3-e98c-4c5b-affb-328e3ea7934b",
        "colab": {
          "base_uri": "https://localhost:8080/",
          "height": 34
        }
      },
      "source": [
        "cd '/content/drive/My Drive/TEST1'"
      ],
      "execution_count": 3,
      "outputs": [
        {
          "output_type": "stream",
          "text": [
            "/content/drive/My Drive/TEST1\n"
          ],
          "name": "stdout"
        }
      ]
    },
    {
      "cell_type": "code",
      "metadata": {
        "id": "Uq0jL2uEe3nq",
        "outputId": "05ad661f-9679-43c7-b453-c2dc24c01846",
        "colab": {
          "base_uri": "https://localhost:8080/",
          "height": 51
        }
      },
      "source": [
        "# pre-trained Inception V3 model \n",
        "#base_model = InceptionV3(layers=tf.keras.layers, weights='imagenet', include_top=False) \n",
        "base_model = VGG16(weights='imagenet', include_top=False, input_shape=(299, 299, 3))\n",
        "base_model.trainable = False\n",
        "\n",
        "model = models.Sequential()\n",
        "model.add(base_model)\n",
        "\n",
        "model.add(GlobalAveragePooling2D())\n",
        "model.add(layers.Dense(256, activation='relu'))\n",
        "model.add(layers.Dense(64, activation='relu'))\n",
        "model.add(layers.Dense(64, activation='relu'))\n",
        "model.add(Dropout(0.5))\n",
        "model.add(layers.Dense(4, activation='softmax'))\n",
        "\n",
        "#adam = optimizers.adam(lr=0.001)\n",
        "#model.compile(optimizer=adam, loss='categorical_crossentropy', \n",
        "#              metrics=['accuracy'])\n",
        "model.compile(loss='categorical_crossentropy', \n",
        "              metrics=['accuracy'])"
      ],
      "execution_count": 4,
      "outputs": [
        {
          "output_type": "stream",
          "text": [
            "Downloading data from https://storage.googleapis.com/tensorflow/keras-applications/vgg16/vgg16_weights_tf_dim_ordering_tf_kernels_notop.h5\n",
            "58892288/58889256 [==============================] - 2s 0us/step\n"
          ],
          "name": "stdout"
        }
      ]
    },
    {
      "cell_type": "code",
      "metadata": {
        "id": "1GaFfpZI1Mus",
        "outputId": "dd60a844-3529-49c3-be6a-65e95cd44ab9",
        "colab": {
          "base_uri": "https://localhost:8080/",
          "height": 391
        }
      },
      "source": [
        "model.summary()"
      ],
      "execution_count": 5,
      "outputs": [
        {
          "output_type": "stream",
          "text": [
            "Model: \"sequential\"\n",
            "_________________________________________________________________\n",
            "Layer (type)                 Output Shape              Param #   \n",
            "=================================================================\n",
            "vgg16 (Functional)           (None, 9, 9, 512)         14714688  \n",
            "_________________________________________________________________\n",
            "global_average_pooling2d (Gl (None, 512)               0         \n",
            "_________________________________________________________________\n",
            "dense (Dense)                (None, 256)               131328    \n",
            "_________________________________________________________________\n",
            "dense_1 (Dense)              (None, 64)                16448     \n",
            "_________________________________________________________________\n",
            "dense_2 (Dense)              (None, 64)                4160      \n",
            "_________________________________________________________________\n",
            "dropout (Dropout)            (None, 64)                0         \n",
            "_________________________________________________________________\n",
            "dense_3 (Dense)              (None, 4)                 260       \n",
            "=================================================================\n",
            "Total params: 14,866,884\n",
            "Trainable params: 152,196\n",
            "Non-trainable params: 14,714,688\n",
            "_________________________________________________________________\n"
          ],
          "name": "stdout"
        }
      ]
    },
    {
      "cell_type": "code",
      "metadata": {
        "id": "RVig2h_-9E36"
      },
      "source": [
        "train_datagen = ImageDataGenerator(rescale=1./255, rotation_range=40,\n",
        "width_shift_range=0.2, height_shift_range=0.2, shear_range=0.2, zoom_range=0.2, \n",
        "horizontal_flip=True, fill_mode='nearest')\n",
        "\n",
        "#train_datagen = ImageDataGenerator(rescale=1./255) \n",
        "test_datagen = ImageDataGenerator(rescale=1./255) \n",
        "train_dir = '/content/drive/My Drive/TEST1/' \n",
        "test_dir = '/content/drive/My Drive/TEST2/'"
      ],
      "execution_count": 8,
      "outputs": []
    },
    {
      "cell_type": "code",
      "metadata": {
        "id": "jYWEYv5n9alC",
        "outputId": "7286f0ee-e888-45c9-9526-ca93334c61c1",
        "colab": {
          "base_uri": "https://localhost:8080/",
          "height": 51
        }
      },
      "source": [
        "train_generator = train_datagen.flow_from_directory( train_dir,\n",
        "  target_size=(299, 299), batch_size=10, class_mode='categorical')\n",
        "\n",
        "test_generator = test_datagen.flow_from_directory( test_dir,\n",
        "  target_size=(299, 299), batch_size=10, class_mode='categorical')"
      ],
      "execution_count": 9,
      "outputs": [
        {
          "output_type": "stream",
          "text": [
            "Found 1165 images belonging to 4 classes.\n",
            "Found 413 images belonging to 4 classes.\n"
          ],
          "name": "stdout"
        }
      ]
    },
    {
      "cell_type": "code",
      "metadata": {
        "id": "f3VZpDeDIujA",
        "outputId": "23810542-c753-45c7-d4b6-cdc98734a08b",
        "colab": {
          "base_uri": "https://localhost:8080/",
          "height": 34
        }
      },
      "source": [
        "# Setup a callback to save the best model \n",
        "callbacks = [keras.callbacks.ModelCheckpoint(\n",
        "  'model.{epoch:02d}-{val_accuracy:.2f}.hdf5', \n",
        "  monitor='val_accuracy', verbose=1, save_best_only=True, \n",
        "  mode='max', period=1)]"
      ],
      "execution_count": 10,
      "outputs": [
        {
          "output_type": "stream",
          "text": [
            "WARNING:tensorflow:`period` argument is deprecated. Please use `save_freq` to specify the frequency in number of batches seen.\n"
          ],
          "name": "stdout"
        }
      ]
    },
    {
      "cell_type": "code",
      "metadata": {
        "id": "PAyz__fzLQET",
        "outputId": "18a909a0-07e3-410a-b413-630a8c639a8f",
        "colab": {
          "base_uri": "https://localhost:8080/",
          "height": 697
        }
      },
      "source": [
        "history = model.fit_generator(train_generator, verbose=1, \n",
        "  steps_per_epoch=len(train_generator), epochs=10,\n",
        "  validation_data=test_generator,\n",
        "  validation_steps=len(test_generator), callbacks=callbacks)"
      ],
      "execution_count": 19,
      "outputs": [
        {
          "output_type": "stream",
          "text": [
            "Epoch 1/10\n",
            "117/117 [==============================] - ETA: 0s - loss: 0.5947 - accuracy: 0.7734\n",
            "Epoch 00001: val_accuracy did not improve from 0.67797\n",
            "117/117 [==============================] - 45s 381ms/step - loss: 0.5947 - accuracy: 0.7734 - val_loss: 1.0473 - val_accuracy: 0.6102\n",
            "Epoch 2/10\n",
            "117/117 [==============================] - ETA: 0s - loss: 0.5581 - accuracy: 0.7948\n",
            "Epoch 00002: val_accuracy improved from 0.67797 to 0.68039, saving model to model.02-0.68.hdf5\n",
            "117/117 [==============================] - 45s 382ms/step - loss: 0.5581 - accuracy: 0.7948 - val_loss: 0.8406 - val_accuracy: 0.6804\n",
            "Epoch 3/10\n",
            "117/117 [==============================] - ETA: 0s - loss: 0.5412 - accuracy: 0.7931\n",
            "Epoch 00003: val_accuracy did not improve from 0.68039\n",
            "117/117 [==============================] - 45s 381ms/step - loss: 0.5412 - accuracy: 0.7931 - val_loss: 1.1645 - val_accuracy: 0.6271\n",
            "Epoch 4/10\n",
            "117/117 [==============================] - ETA: 0s - loss: 0.5273 - accuracy: 0.8077\n",
            "Epoch 00004: val_accuracy did not improve from 0.68039\n",
            "117/117 [==============================] - 45s 381ms/step - loss: 0.5273 - accuracy: 0.8077 - val_loss: 1.0833 - val_accuracy: 0.5932\n",
            "Epoch 5/10\n",
            "117/117 [==============================] - ETA: 0s - loss: 0.4899 - accuracy: 0.8223\n",
            "Epoch 00005: val_accuracy improved from 0.68039 to 0.68281, saving model to model.05-0.68.hdf5\n",
            "117/117 [==============================] - 45s 383ms/step - loss: 0.4899 - accuracy: 0.8223 - val_loss: 0.8641 - val_accuracy: 0.6828\n",
            "Epoch 6/10\n",
            "117/117 [==============================] - ETA: 0s - loss: 0.5112 - accuracy: 0.8300\n",
            "Epoch 00006: val_accuracy did not improve from 0.68281\n",
            "117/117 [==============================] - 45s 383ms/step - loss: 0.5112 - accuracy: 0.8300 - val_loss: 0.8855 - val_accuracy: 0.6731\n",
            "Epoch 7/10\n",
            "117/117 [==============================] - ETA: 0s - loss: 0.4859 - accuracy: 0.8266\n",
            "Epoch 00007: val_accuracy did not improve from 0.68281\n",
            "117/117 [==============================] - 44s 380ms/step - loss: 0.4859 - accuracy: 0.8266 - val_loss: 0.8847 - val_accuracy: 0.6683\n",
            "Epoch 8/10\n",
            "117/117 [==============================] - ETA: 0s - loss: 0.4799 - accuracy: 0.8249\n",
            "Epoch 00008: val_accuracy did not improve from 0.68281\n",
            "117/117 [==============================] - 45s 381ms/step - loss: 0.4799 - accuracy: 0.8249 - val_loss: 0.7828 - val_accuracy: 0.6562\n",
            "Epoch 9/10\n",
            "117/117 [==============================] - ETA: 0s - loss: 0.4667 - accuracy: 0.8412\n",
            "Epoch 00009: val_accuracy improved from 0.68281 to 0.80387, saving model to model.09-0.80.hdf5\n",
            "117/117 [==============================] - 44s 378ms/step - loss: 0.4667 - accuracy: 0.8412 - val_loss: 0.5737 - val_accuracy: 0.8039\n",
            "Epoch 10/10\n",
            "117/117 [==============================] - ETA: 0s - loss: 0.4468 - accuracy: 0.8421\n",
            "Epoch 00010: val_accuracy did not improve from 0.80387\n",
            "117/117 [==============================] - 44s 376ms/step - loss: 0.4468 - accuracy: 0.8421 - val_loss: 1.0856 - val_accuracy: 0.6247\n"
          ],
          "name": "stdout"
        }
      ]
    },
    {
      "cell_type": "code",
      "metadata": {
        "id": "K59QtXezLV7Q",
        "outputId": "13be81ab-0ac2-4d78-cd25-d20b0f946f8b",
        "colab": {
          "base_uri": "https://localhost:8080/",
          "height": 545
        }
      },
      "source": [
        "def plot_history(history): \n",
        "    acc = history.history['accuracy'] \n",
        "    val_acc = history.history['val_accuracy'] \n",
        "    loss = history.history['loss'] \n",
        "    val_loss = history.history['val_loss'] \n",
        "    epochs = range(1, len(acc) + 1) \n",
        "    \n",
        "    plt.figure() \n",
        "    plt.title('Training and validation accuracy') \n",
        "    plt.plot(epochs, acc, 'bo', label='Training acc')\n",
        "    plt.plot(epochs, val_acc, 'b', color='red', \\\n",
        "      label='Validation acc') \n",
        "    plt.legend() \n",
        "    plt.show() \n",
        "   \n",
        "    plt.figure() \n",
        "    plt.title('Training and validation loss')\n",
        "    plt.plot(epochs, loss, 'bo', label='Training loss')\n",
        "    plt.plot(epochs, val_loss, 'b', color='red', \\\n",
        "      label='Validation loss') \n",
        "    plt.legend() \n",
        "    plt.show() \n",
        "    return acc, val_acc, loss, val_loss \n",
        "\n",
        "acc, val_acc, loss, val_loss = plot_history(history)"
      ],
      "execution_count": 12,
      "outputs": [
        {
          "output_type": "display_data",
          "data": {
            "image/png": "[encoded data removed]",
            "text/plain": [
              "<Figure size 432x288 with 1 Axes>"
            ]
          },
          "metadata": {
            "tags": [],
            "needs_background": "light"
          }
        },
        {
          "output_type": "display_data",
          "data": {
            "image/png": "[encoded data removed]",
            "text/plain": [
              "<Figure size 432x288 with 1 Axes>"
            ]
          },
          "metadata": {
            "tags": [],
            "needs_background": "light"
          }
        }
      ]
    },
    {
      "cell_type": "code",
      "metadata": {
        "id": "gs6ckcFQLl6_",
        "outputId": "14e895ca-e2eb-47d8-80e1-5257828b278a",
        "colab": {
          "base_uri": "https://localhost:8080/",
          "height": 34
        }
      },
      "source": [
        "cd '/content/drive/My Drive/TEST1'"
      ],
      "execution_count": 15,
      "outputs": [
        {
          "output_type": "stream",
          "text": [
            "/content/drive/My Drive/TEST1\n"
          ],
          "name": "stdout"
        }
      ]
    },
    {
      "cell_type": "code",
      "metadata": {
        "id": "QTvRL0NlnzxH",
        "outputId": "441f532c-ed24-42ff-ce36-bc135d18880d",
        "colab": {
          "base_uri": "https://localhost:8080/",
          "height": 460
        }
      },
      "source": [
        "model.load_weights(\"model.09-0.94.hdf5\")\n",
        "\n",
        "#model = load_model('model.09-0.94.hdf5')"
      ],
      "execution_count": 16,
      "outputs": [
        {
          "output_type": "error",
          "ename": "OSError",
          "evalue": "ignored",
          "traceback": [
            "\u001b[0;31m---------------------------------------------------------------------------\u001b[0m",
            "\u001b[0;31mOSError\u001b[0m                                   Traceback (most recent call last)",
            "\u001b[0;32m<ipython-input-16-13a8b6f2a487>\u001b[0m in \u001b[0;36m<module>\u001b[0;34m()\u001b[0m\n\u001b[0;32m----> 1\u001b[0;31m \u001b[0mmodel\u001b[0m\u001b[0;34m.\u001b[0m\u001b[0mload_weights\u001b[0m\u001b[0;34m(\u001b[0m\u001b[0;34m\"model.09-0.94.hdf5\"\u001b[0m\u001b[0;34m)\u001b[0m\u001b[0;34m\u001b[0m\u001b[0;34m\u001b[0m\u001b[0m\n\u001b[0m\u001b[1;32m      2\u001b[0m \u001b[0;34m\u001b[0m\u001b[0m\n\u001b[1;32m      3\u001b[0m \u001b[0;31m#model = load_model('model.09-0.94.hdf5')\u001b[0m\u001b[0;34m\u001b[0m\u001b[0;34m\u001b[0m\u001b[0;34m\u001b[0m\u001b[0m\n",
            "\u001b[0;32m/usr/local/lib/python3.6/dist-packages/tensorflow/python/keras/engine/training.py\u001b[0m in \u001b[0;36mload_weights\u001b[0;34m(self, filepath, by_name, skip_mismatch, options)\u001b[0m\n\u001b[1;32m   2202\u001b[0m           'first, then load the weights.')\n\u001b[1;32m   2203\u001b[0m     \u001b[0mself\u001b[0m\u001b[0;34m.\u001b[0m\u001b[0m_assert_weights_created\u001b[0m\u001b[0;34m(\u001b[0m\u001b[0;34m)\u001b[0m\u001b[0;34m\u001b[0m\u001b[0;34m\u001b[0m\u001b[0m\n\u001b[0;32m-> 2204\u001b[0;31m     \u001b[0;32mwith\u001b[0m \u001b[0mh5py\u001b[0m\u001b[0;34m.\u001b[0m\u001b[0mFile\u001b[0m\u001b[0;34m(\u001b[0m\u001b[0mfilepath\u001b[0m\u001b[0;34m,\u001b[0m \u001b[0;34m'r'\u001b[0m\u001b[0;34m)\u001b[0m \u001b[0;32mas\u001b[0m \u001b[0mf\u001b[0m\u001b[0;34m:\u001b[0m\u001b[0;34m\u001b[0m\u001b[0;34m\u001b[0m\u001b[0m\n\u001b[0m\u001b[1;32m   2205\u001b[0m       \u001b[0;32mif\u001b[0m \u001b[0;34m'layer_names'\u001b[0m \u001b[0;32mnot\u001b[0m \u001b[0;32min\u001b[0m \u001b[0mf\u001b[0m\u001b[0;34m.\u001b[0m\u001b[0mattrs\u001b[0m \u001b[0;32mand\u001b[0m \u001b[0;34m'model_weights'\u001b[0m \u001b[0;32min\u001b[0m \u001b[0mf\u001b[0m\u001b[0;34m:\u001b[0m\u001b[0;34m\u001b[0m\u001b[0;34m\u001b[0m\u001b[0m\n\u001b[1;32m   2206\u001b[0m         \u001b[0mf\u001b[0m \u001b[0;34m=\u001b[0m \u001b[0mf\u001b[0m\u001b[0;34m[\u001b[0m\u001b[0;34m'model_weights'\u001b[0m\u001b[0;34m]\u001b[0m\u001b[0;34m\u001b[0m\u001b[0;34m\u001b[0m\u001b[0m\n",
            "\u001b[0;32m/usr/local/lib/python3.6/dist-packages/h5py/_hl/files.py\u001b[0m in \u001b[0;36m__init__\u001b[0;34m(self, name, mode, driver, libver, userblock_size, swmr, rdcc_nslots, rdcc_nbytes, rdcc_w0, track_order, **kwds)\u001b[0m\n\u001b[1;32m    406\u001b[0m                 fid = make_fid(name, mode, userblock_size,\n\u001b[1;32m    407\u001b[0m                                \u001b[0mfapl\u001b[0m\u001b[0;34m,\u001b[0m \u001b[0mfcpl\u001b[0m\u001b[0;34m=\u001b[0m\u001b[0mmake_fcpl\u001b[0m\u001b[0;34m(\u001b[0m\u001b[0mtrack_order\u001b[0m\u001b[0;34m=\u001b[0m\u001b[0mtrack_order\u001b[0m\u001b[0;34m)\u001b[0m\u001b[0;34m,\u001b[0m\u001b[0;34m\u001b[0m\u001b[0;34m\u001b[0m\u001b[0m\n\u001b[0;32m--> 408\u001b[0;31m                                swmr=swmr)\n\u001b[0m\u001b[1;32m    409\u001b[0m \u001b[0;34m\u001b[0m\u001b[0m\n\u001b[1;32m    410\u001b[0m             \u001b[0;32mif\u001b[0m \u001b[0misinstance\u001b[0m\u001b[0;34m(\u001b[0m\u001b[0mlibver\u001b[0m\u001b[0;34m,\u001b[0m \u001b[0mtuple\u001b[0m\u001b[0;34m)\u001b[0m\u001b[0;34m:\u001b[0m\u001b[0;34m\u001b[0m\u001b[0;34m\u001b[0m\u001b[0m\n",
            "\u001b[0;32m/usr/local/lib/python3.6/dist-packages/h5py/_hl/files.py\u001b[0m in \u001b[0;36mmake_fid\u001b[0;34m(name, mode, userblock_size, fapl, fcpl, swmr)\u001b[0m\n\u001b[1;32m    171\u001b[0m         \u001b[0;32mif\u001b[0m \u001b[0mswmr\u001b[0m \u001b[0;32mand\u001b[0m \u001b[0mswmr_support\u001b[0m\u001b[0;34m:\u001b[0m\u001b[0;34m\u001b[0m\u001b[0;34m\u001b[0m\u001b[0m\n\u001b[1;32m    172\u001b[0m             \u001b[0mflags\u001b[0m \u001b[0;34m|=\u001b[0m \u001b[0mh5f\u001b[0m\u001b[0;34m.\u001b[0m\u001b[0mACC_SWMR_READ\u001b[0m\u001b[0;34m\u001b[0m\u001b[0;34m\u001b[0m\u001b[0m\n\u001b[0;32m--> 173\u001b[0;31m         \u001b[0mfid\u001b[0m \u001b[0;34m=\u001b[0m \u001b[0mh5f\u001b[0m\u001b[0;34m.\u001b[0m\u001b[0mopen\u001b[0m\u001b[0;34m(\u001b[0m\u001b[0mname\u001b[0m\u001b[0;34m,\u001b[0m \u001b[0mflags\u001b[0m\u001b[0;34m,\u001b[0m \u001b[0mfapl\u001b[0m\u001b[0;34m=\u001b[0m\u001b[0mfapl\u001b[0m\u001b[0;34m)\u001b[0m\u001b[0;34m\u001b[0m\u001b[0;34m\u001b[0m\u001b[0m\n\u001b[0m\u001b[1;32m    174\u001b[0m     \u001b[0;32melif\u001b[0m \u001b[0mmode\u001b[0m \u001b[0;34m==\u001b[0m \u001b[0;34m'r+'\u001b[0m\u001b[0;34m:\u001b[0m\u001b[0;34m\u001b[0m\u001b[0;34m\u001b[0m\u001b[0m\n\u001b[1;32m    175\u001b[0m         \u001b[0mfid\u001b[0m \u001b[0;34m=\u001b[0m \u001b[0mh5f\u001b[0m\u001b[0;34m.\u001b[0m\u001b[0mopen\u001b[0m\u001b[0;34m(\u001b[0m\u001b[0mname\u001b[0m\u001b[0;34m,\u001b[0m \u001b[0mh5f\u001b[0m\u001b[0;34m.\u001b[0m\u001b[0mACC_RDWR\u001b[0m\u001b[0;34m,\u001b[0m \u001b[0mfapl\u001b[0m\u001b[0;34m=\u001b[0m\u001b[0mfapl\u001b[0m\u001b[0;34m)\u001b[0m\u001b[0;34m\u001b[0m\u001b[0;34m\u001b[0m\u001b[0m\n",
            "\u001b[0;32mh5py/_objects.pyx\u001b[0m in \u001b[0;36mh5py._objects.with_phil.wrapper\u001b[0;34m()\u001b[0m\n",
            "\u001b[0;32mh5py/_objects.pyx\u001b[0m in \u001b[0;36mh5py._objects.with_phil.wrapper\u001b[0;34m()\u001b[0m\n",
            "\u001b[0;32mh5py/h5f.pyx\u001b[0m in \u001b[0;36mh5py.h5f.open\u001b[0;34m()\u001b[0m\n",
            "\u001b[0;31mOSError\u001b[0m: Unable to open file (unable to open file: name = 'model.09-0.94.hdf5', errno = 2, error message = 'No such file or directory', flags = 0, o_flags = 0)"
          ]
        }
      ]
    },
    {
      "cell_type": "code",
      "metadata": {
        "id": "IBLZs1kMnaC6"
      },
      "source": [
        "classes = ['CNV', 'DME', 'DRUSEN', 'NORMAL']\n",
        "\n",
        "def preprocess_input(x):\n",
        "    x = img_to_array(x) / 255.\n",
        "    return np.expand_dims(x, axis=0) \n",
        "\n",
        "# Prediction for an image path in the local directory\n",
        "def predict_from_image_path(image_path):\n",
        "    return predict_image(load_img(image_path, target_size=(299, 299)))\n",
        "\n",
        "# Prediction for an image URL path\n",
        "def predict_from_image_url(image_url):\n",
        "    res = requests.get(image_url)\n",
        "    im = Image.open(BytesIO(res.content))\n",
        "    return predict_from_image_path(im.fp)\n",
        "    \n",
        "# Predict an image\n",
        "def predict_image(im):\n",
        "    x = preprocess_input(im)\n",
        "    pred = np.argmax(model.predict(x))\n",
        "    return pred, classes[pred]"
      ],
      "execution_count": 13,
      "outputs": []
    },
    {
      "cell_type": "code",
      "metadata": {
        "id": "lHQXkyXhnPtU",
        "outputId": "ee5ade87-be38-4216-cefc-4bf294ff5236",
        "colab": {
          "base_uri": "https://localhost:8080/",
          "height": 34
        }
      },
      "source": [
        "#Picture with CNV\n",
        "print(predict_from_image_path('/content/drive/My Drive/TEST2/test2c.jpeg'))"
      ],
      "execution_count": 14,
      "outputs": [
        {
          "output_type": "stream",
          "text": [
            "(0, 'CNV')\n"
          ],
          "name": "stdout"
        }
      ]
    },
    {
      "cell_type": "code",
      "metadata": {
        "id": "jmk73ohjoG1Q",
        "outputId": "f3dc3998-a2fc-4bc2-8432-ea029303ade6",
        "colab": {
          "base_uri": "https://localhost:8080/",
          "height": 34
        }
      },
      "source": [
        "#Picture without an eye disease\n",
        "print(predict_from_image_path('/content/drive/My Drive/TEST2/test2n.jpeg'))"
      ],
      "execution_count": 15,
      "outputs": [
        {
          "output_type": "stream",
          "text": [
            "(3, 'NORMAL')\n"
          ],
          "name": "stdout"
        }
      ]
    },
    {
      "cell_type": "code",
      "metadata": {
        "id": "syZs5i1iqTN8",
        "outputId": "2de53f67-a0c3-4689-c2a1-9c3a92e29cc9",
        "colab": {
          "base_uri": "https://localhost:8080/",
          "height": 34
        }
      },
      "source": [
        "#CNV again\n",
        "print(predict_from_image_path('/content/drive/My Drive/TEST2/no-disease-cnv-28682-8.jpeg'))"
      ],
      "execution_count": 16,
      "outputs": [
        {
          "output_type": "stream",
          "text": [
            "(0, 'CNV')\n"
          ],
          "name": "stdout"
        }
      ]
    },
    {
      "cell_type": "code",
      "metadata": {
        "id": "9sR10KOaqlf6",
        "outputId": "5fa55216-848f-4e59-8111-15210408b412",
        "colab": {
          "base_uri": "https://localhost:8080/",
          "height": 34
        }
      },
      "source": [
        "#NORMAL\n",
        "print(predict_from_image_path('/content/drive/My Drive/TEST2/test1n.jpeg'))"
      ],
      "execution_count": 17,
      "outputs": [
        {
          "output_type": "stream",
          "text": [
            "(3, 'NORMAL')\n"
          ],
          "name": "stdout"
        }
      ]
    },
    {
      "cell_type": "code",
      "metadata": {
        "id": "D2Aqk9ckZcxj",
        "outputId": "c48fb3f2-54f8-41c3-8a68-59af7b4f8e53",
        "colab": {
          "base_uri": "https://localhost:8080/",
          "height": 34
        }
      },
      "source": [
        "#DRUSEN\n",
        "print(predict_from_image_path('/content/drive/My Drive/TEST3/DRUSEN/DRUSEN-9837663-1.jpeg'))"
      ],
      "execution_count": 18,
      "outputs": [
        {
          "output_type": "stream",
          "text": [
            "(2, 'DRUSEN')\n"
          ],
          "name": "stdout"
        }
      ]
    },
    {
      "cell_type": "code",
      "metadata": {
        "id": "HmqoyKmvGJ47"
      },
      "source": [
        ""
      ],
      "execution_count": 18,
      "outputs": []
    }
  ]
}