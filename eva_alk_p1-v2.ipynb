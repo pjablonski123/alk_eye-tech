{
  "nbformat": 4,
  "nbformat_minor": 0,
  "metadata": {
    "colab": {
      "name": "eva-alk-p1",
      "provenance": [],
      "mount_file_id": "1WtcXGZobVoQKAOrrx5amxD0mD1fRfnNa",
      "authorship_tag": "ABX9TyPWGwjwzvUVts9pihSqbhF9",
      "include_colab_link": true
    },
    "kernelspec": {
      "name": "python3",
      "display_name": "Python 3"
    },
    "accelerator": "GPU"
  },
  "cells": [
    {
      "cell_type": "markdown",
      "metadata": {
        "id": "view-in-github",
        "colab_type": "text"
      },
      "source": [
        "<a href=\"https://colab.research.google.com/github/pjablonski123/alk_eye-tech/blob/master/eva_alk_p1-v2.ipynb\" target=\"_parent\"><img src=\"https://colab.research.google.com/assets/colab-badge.svg\" alt=\"Open In Colab\"/></a>"
      ]
    },
    {
      "cell_type": "code",
      "metadata": {
        "id": "Clh5cxfJ3RHq",
        "colab_type": "code",
        "colab": {}
      },
      "source": [
        "import keras\n",
        "import numpy as np\n",
        "from keras.preprocessing.image import ImageDataGenerator \n",
        "from keras.applications.inception_v3 import InceptionV3 \n",
        "from keras.layers import Dense, GlobalAveragePooling2D \n",
        "from keras.preprocessing.image import ImageDataGenerator, load_img, img_to_array\n",
        "from keras.models import Model \n",
        "from keras.models import Sequential\n",
        "from keras import optimizers \n",
        "from keras import layers\n",
        "from keras import models\n",
        "import matplotlib.pyplot as plt \n",
        "%matplotlib inline\n",
        "from keras.models import load_model"
      ],
      "execution_count": 0,
      "outputs": []
    },
    {
      "cell_type": "code",
      "metadata": {
        "id": "c_4Q70Ly3Wlf",
        "colab_type": "code",
        "outputId": "381427ac-e7ff-4c23-d6df-5aecb7f2993c",
        "colab": {
          "base_uri": "https://localhost:8080/",
          "height": 34
        }
      },
      "source": [
        "cd '/content/drive/My Drive/TEST1'"
      ],
      "execution_count": 46,
      "outputs": [
        {
          "output_type": "stream",
          "text": [
            "/content/drive/My Drive/TEST1\n"
          ],
          "name": "stdout"
        }
      ]
    },
    {
      "cell_type": "code",
      "metadata": {
        "id": "Uq0jL2uEe3nq",
        "colab_type": "code",
        "colab": {}
      },
      "source": [
        "# pre-trained Inception V3 model \n",
        "base_model = InceptionV3(weights='imagenet', include_top=False) \n",
        "base_model.trainable = False\n",
        "\n",
        "#x = base_model.output\n",
        "#x = GlobalAveragePooling2D()(x) \n",
        "#x = Dense(64, activation='relu')(x) \n",
        "#predictions = Dense(2, activation='softmax')(x) \n",
        "\n",
        "#model = Model(inputs=base_model.input, outputs=predictions) \n",
        "\n",
        "#model.trainable = False\n",
        "\n",
        "model = models.Sequential()\n",
        "model.add(base_model)\n",
        "#model.add(layers.Flatten()) \n",
        "model.add(GlobalAveragePooling2D())\n",
        "model.add(layers.Dense(64, activation='relu')) \n",
        "model.add(layers.Dense(2, activation='softmax'))\n",
        "#model.add(layers.Dense(1, activation='sigmoid'))\n",
        "\n",
        "adam = optimizers.adam(lr=0.01)\n",
        "model.compile(optimizer=adam, loss='categorical_crossentropy', \n",
        "              metrics=['accuracy'])"
      ],
      "execution_count": 0,
      "outputs": []
    },
    {
      "cell_type": "code",
      "metadata": {
        "id": "1GaFfpZI1Mus",
        "colab_type": "code",
        "colab": {
          "base_uri": "https://localhost:8080/",
          "height": 289
        },
        "outputId": "3d79869b-755c-435f-9743-9c94ff939658"
      },
      "source": [
        "model.summary()"
      ],
      "execution_count": 61,
      "outputs": [
        {
          "output_type": "stream",
          "text": [
            "Model: \"sequential_5\"\n",
            "_________________________________________________________________\n",
            "Layer (type)                 Output Shape              Param #   \n",
            "=================================================================\n",
            "inception_v3 (Model)         (None, None, None, 2048)  21802784  \n",
            "_________________________________________________________________\n",
            "global_average_pooling2d_6 ( (None, 2048)              0         \n",
            "_________________________________________________________________\n",
            "dense_15 (Dense)             (None, 64)                131136    \n",
            "_________________________________________________________________\n",
            "dense_16 (Dense)             (None, 2)                 130       \n",
            "=================================================================\n",
            "Total params: 21,934,050\n",
            "Trainable params: 131,266\n",
            "Non-trainable params: 21,802,784\n",
            "_________________________________________________________________\n"
          ],
          "name": "stdout"
        }
      ]
    },
    {
      "cell_type": "code",
      "metadata": {
        "id": "RVig2h_-9E36",
        "colab_type": "code",
        "colab": {}
      },
      "source": [
        "train_datagen = ImageDataGenerator(rescale=1./255) \n",
        "test_datagen = ImageDataGenerator(rescale=1./255) \n",
        "train_dir = '/content/drive/My Drive/TEST1/' \n",
        "test_dir = '/content/drive/My Drive/TEST2/'"
      ],
      "execution_count": 0,
      "outputs": []
    },
    {
      "cell_type": "code",
      "metadata": {
        "id": "jYWEYv5n9alC",
        "colab_type": "code",
        "outputId": "9ec80f84-00f0-44cb-9d43-46f16b0c15be",
        "colab": {
          "base_uri": "https://localhost:8080/",
          "height": 51
        }
      },
      "source": [
        "train_generator = train_datagen.flow_from_directory( train_dir,\n",
        "  target_size=(299, 299), batch_size=16, class_mode='categorical')\n",
        "\n",
        "test_generator = test_datagen.flow_from_directory( test_dir,\n",
        "  target_size=(299, 299), batch_size=16, class_mode='categorical')"
      ],
      "execution_count": 70,
      "outputs": [
        {
          "output_type": "stream",
          "text": [
            "Found 500 images belonging to 2 classes.\n",
            "Found 31 images belonging to 2 classes.\n"
          ],
          "name": "stdout"
        }
      ]
    },
    {
      "cell_type": "code",
      "metadata": {
        "id": "f3VZpDeDIujA",
        "colab_type": "code",
        "colab": {}
      },
      "source": [
        "# Setup a callback to save the best model \n",
        "callbacks = [keras.callbacks.ModelCheckpoint(\n",
        "  'model.{epoch:02d}-{val_accuracy:.2f}.hdf5', \n",
        "  monitor='val_accuracy', verbose=1, save_best_only=True, \n",
        "  mode='max', period=1)]"
      ],
      "execution_count": 0,
      "outputs": []
    },
    {
      "cell_type": "code",
      "metadata": {
        "id": "PAyz__fzLQET",
        "colab_type": "code",
        "outputId": "3bfd4d7f-7d9a-4318-91fc-ab7cf5d076bc",
        "colab": {
          "base_uri": "https://localhost:8080/",
          "height": 1000
        }
      },
      "source": [
        "history = model.fit_generator(train_generator, verbose=1, \n",
        "  steps_per_epoch=len(train_generator), epochs=100,\n",
        "  validation_data=test_generator,\n",
        "  validation_steps=len(test_generator), callbacks=callbacks)"
      ],
      "execution_count": 72,
      "outputs": [
        {
          "output_type": "stream",
          "text": [
            "Epoch 1/100\n",
            "32/32 [==============================] - 10s 302ms/step - loss: 0.8200 - accuracy: 0.6240 - val_loss: 0.4325 - val_accuracy: 0.6774\n",
            "\n",
            "Epoch 00001: val_accuracy improved from -inf to 0.67742, saving model to model.01-0.68.hdf5\n",
            "Epoch 2/100\n",
            "32/32 [==============================] - 3s 98ms/step - loss: 0.5174 - accuracy: 0.7580 - val_loss: 1.7193 - val_accuracy: 0.4516\n",
            "\n",
            "Epoch 00002: val_accuracy did not improve from 0.67742\n",
            "Epoch 3/100\n",
            "32/32 [==============================] - 4s 111ms/step - loss: 0.3582 - accuracy: 0.8460 - val_loss: 0.9542 - val_accuracy: 0.7419\n",
            "\n",
            "Epoch 00003: val_accuracy improved from 0.67742 to 0.74194, saving model to model.03-0.74.hdf5\n",
            "Epoch 4/100\n",
            "32/32 [==============================] - 3s 100ms/step - loss: 0.3889 - accuracy: 0.8340 - val_loss: 0.5291 - val_accuracy: 0.8387\n",
            "\n",
            "Epoch 00004: val_accuracy improved from 0.74194 to 0.83871, saving model to model.04-0.84.hdf5\n",
            "Epoch 5/100\n",
            "32/32 [==============================] - 3s 98ms/step - loss: 0.2935 - accuracy: 0.8740 - val_loss: 0.5972 - val_accuracy: 0.6129\n",
            "\n",
            "Epoch 00005: val_accuracy did not improve from 0.83871\n",
            "Epoch 6/100\n",
            "32/32 [==============================] - 3s 107ms/step - loss: 0.2765 - accuracy: 0.8780 - val_loss: 2.7264 - val_accuracy: 0.4516\n",
            "\n",
            "Epoch 00006: val_accuracy did not improve from 0.83871\n",
            "Epoch 7/100\n",
            "32/32 [==============================] - 4s 110ms/step - loss: 0.2381 - accuracy: 0.9020 - val_loss: 1.4756 - val_accuracy: 0.5161\n",
            "\n",
            "Epoch 00007: val_accuracy did not improve from 0.83871\n",
            "Epoch 8/100\n",
            "32/32 [==============================] - 3s 102ms/step - loss: 0.1943 - accuracy: 0.9160 - val_loss: 0.9209 - val_accuracy: 0.5161\n",
            "\n",
            "Epoch 00008: val_accuracy did not improve from 0.83871\n",
            "Epoch 9/100\n",
            "32/32 [==============================] - 3s 99ms/step - loss: 0.1527 - accuracy: 0.9500 - val_loss: 3.2492 - val_accuracy: 0.4516\n",
            "\n",
            "Epoch 00009: val_accuracy did not improve from 0.83871\n",
            "Epoch 10/100\n",
            "32/32 [==============================] - 3s 99ms/step - loss: 0.2478 - accuracy: 0.8940 - val_loss: 3.5191 - val_accuracy: 0.4516\n",
            "\n",
            "Epoch 00010: val_accuracy did not improve from 0.83871\n",
            "Epoch 11/100\n",
            "32/32 [==============================] - 3s 98ms/step - loss: 0.1790 - accuracy: 0.9280 - val_loss: 3.6226 - val_accuracy: 0.4516\n",
            "\n",
            "Epoch 00011: val_accuracy did not improve from 0.83871\n",
            "Epoch 12/100\n",
            "32/32 [==============================] - 3s 98ms/step - loss: 0.1538 - accuracy: 0.9400 - val_loss: 1.4336 - val_accuracy: 0.5806\n",
            "\n",
            "Epoch 00012: val_accuracy did not improve from 0.83871\n",
            "Epoch 13/100\n",
            "32/32 [==============================] - 3s 99ms/step - loss: 0.3320 - accuracy: 0.8680 - val_loss: 2.3750 - val_accuracy: 0.4516\n",
            "\n",
            "Epoch 00013: val_accuracy did not improve from 0.83871\n",
            "Epoch 14/100\n",
            "32/32 [==============================] - 3s 101ms/step - loss: 0.2175 - accuracy: 0.9000 - val_loss: 3.0822 - val_accuracy: 0.4516\n",
            "\n",
            "Epoch 00014: val_accuracy did not improve from 0.83871\n",
            "Epoch 15/100\n",
            "32/32 [==============================] - 3s 99ms/step - loss: 0.1722 - accuracy: 0.9340 - val_loss: 2.3301 - val_accuracy: 0.4839\n",
            "\n",
            "Epoch 00015: val_accuracy did not improve from 0.83871\n",
            "Epoch 16/100\n",
            "32/32 [==============================] - 3s 100ms/step - loss: 0.2165 - accuracy: 0.9100 - val_loss: 1.9051 - val_accuracy: 0.4839\n",
            "\n",
            "Epoch 00016: val_accuracy did not improve from 0.83871\n",
            "Epoch 17/100\n",
            "32/32 [==============================] - 3s 99ms/step - loss: 0.2525 - accuracy: 0.8920 - val_loss: 2.5001 - val_accuracy: 0.4516\n",
            "\n",
            "Epoch 00017: val_accuracy did not improve from 0.83871\n",
            "Epoch 18/100\n",
            "32/32 [==============================] - 3s 98ms/step - loss: 0.2068 - accuracy: 0.9180 - val_loss: 1.9986 - val_accuracy: 0.6129\n",
            "\n",
            "Epoch 00018: val_accuracy did not improve from 0.83871\n",
            "Epoch 19/100\n",
            "32/32 [==============================] - 3s 99ms/step - loss: 0.2099 - accuracy: 0.9380 - val_loss: 2.3621 - val_accuracy: 0.4516\n",
            "\n",
            "Epoch 00019: val_accuracy did not improve from 0.83871\n",
            "Epoch 20/100\n",
            "32/32 [==============================] - 3s 98ms/step - loss: 0.1938 - accuracy: 0.9200 - val_loss: 1.4442 - val_accuracy: 0.5484\n",
            "\n",
            "Epoch 00020: val_accuracy did not improve from 0.83871\n",
            "Epoch 21/100\n",
            "32/32 [==============================] - 3s 99ms/step - loss: 0.2154 - accuracy: 0.9080 - val_loss: 0.9859 - val_accuracy: 0.7742\n",
            "\n",
            "Epoch 00021: val_accuracy did not improve from 0.83871\n",
            "Epoch 22/100\n",
            "32/32 [==============================] - 3s 98ms/step - loss: 0.3526 - accuracy: 0.8640 - val_loss: 1.0670 - val_accuracy: 0.6452\n",
            "\n",
            "Epoch 00022: val_accuracy did not improve from 0.83871\n",
            "Epoch 23/100\n",
            "32/32 [==============================] - 3s 99ms/step - loss: 0.1665 - accuracy: 0.9340 - val_loss: 1.7322 - val_accuracy: 0.6129\n",
            "\n",
            "Epoch 00023: val_accuracy did not improve from 0.83871\n",
            "Epoch 24/100\n",
            "32/32 [==============================] - 3s 99ms/step - loss: 0.1215 - accuracy: 0.9540 - val_loss: 1.8681 - val_accuracy: 0.7097\n",
            "\n",
            "Epoch 00024: val_accuracy did not improve from 0.83871\n",
            "Epoch 25/100\n",
            "32/32 [==============================] - 3s 100ms/step - loss: 0.1536 - accuracy: 0.9360 - val_loss: 0.4590 - val_accuracy: 0.5484\n",
            "\n",
            "Epoch 00025: val_accuracy did not improve from 0.83871\n",
            "Epoch 26/100\n",
            "32/32 [==============================] - 3s 99ms/step - loss: 0.2222 - accuracy: 0.9180 - val_loss: 1.0123 - val_accuracy: 0.7419\n",
            "\n",
            "Epoch 00026: val_accuracy did not improve from 0.83871\n",
            "Epoch 27/100\n",
            "32/32 [==============================] - 3s 100ms/step - loss: 0.2583 - accuracy: 0.9040 - val_loss: 1.4548 - val_accuracy: 0.5806\n",
            "\n",
            "Epoch 00027: val_accuracy did not improve from 0.83871\n",
            "Epoch 28/100\n",
            "32/32 [==============================] - 3s 98ms/step - loss: 0.1984 - accuracy: 0.9140 - val_loss: 2.1844 - val_accuracy: 0.6129\n",
            "\n",
            "Epoch 00028: val_accuracy did not improve from 0.83871\n",
            "Epoch 29/100\n",
            "32/32 [==============================] - 3s 99ms/step - loss: 0.2520 - accuracy: 0.9160 - val_loss: 0.4676 - val_accuracy: 0.7097\n",
            "\n",
            "Epoch 00029: val_accuracy did not improve from 0.83871\n",
            "Epoch 30/100\n",
            "32/32 [==============================] - 3s 99ms/step - loss: 0.1701 - accuracy: 0.9300 - val_loss: 3.6327 - val_accuracy: 0.4516\n",
            "\n",
            "Epoch 00030: val_accuracy did not improve from 0.83871\n",
            "Epoch 31/100\n",
            "32/32 [==============================] - 3s 99ms/step - loss: 0.2114 - accuracy: 0.9120 - val_loss: 1.8631 - val_accuracy: 0.4516\n",
            "\n",
            "Epoch 00031: val_accuracy did not improve from 0.83871\n",
            "Epoch 32/100\n",
            "32/32 [==============================] - 3s 98ms/step - loss: 0.1141 - accuracy: 0.9600 - val_loss: 2.9762 - val_accuracy: 0.4839\n",
            "\n",
            "Epoch 00032: val_accuracy did not improve from 0.83871\n",
            "Epoch 33/100\n",
            "32/32 [==============================] - 3s 97ms/step - loss: 0.1548 - accuracy: 0.9320 - val_loss: 2.5105 - val_accuracy: 0.4516\n",
            "\n",
            "Epoch 00033: val_accuracy did not improve from 0.83871\n",
            "Epoch 34/100\n",
            "32/32 [==============================] - 3s 99ms/step - loss: 0.3627 - accuracy: 0.8620 - val_loss: 0.4973 - val_accuracy: 0.6129\n",
            "\n",
            "Epoch 00034: val_accuracy did not improve from 0.83871\n",
            "Epoch 35/100\n",
            "32/32 [==============================] - 3s 97ms/step - loss: 0.4066 - accuracy: 0.9260 - val_loss: 0.6411 - val_accuracy: 0.6129\n",
            "\n",
            "Epoch 00035: val_accuracy did not improve from 0.83871\n",
            "Epoch 36/100\n",
            "32/32 [==============================] - 3s 99ms/step - loss: 0.2561 - accuracy: 0.9460 - val_loss: 0.7285 - val_accuracy: 0.4516\n",
            "\n",
            "Epoch 00036: val_accuracy did not improve from 0.83871\n",
            "Epoch 37/100\n",
            "32/32 [==============================] - 3s 97ms/step - loss: 0.1184 - accuracy: 0.9540 - val_loss: 2.5601 - val_accuracy: 0.5806\n",
            "\n",
            "Epoch 00037: val_accuracy did not improve from 0.83871\n",
            "Epoch 38/100\n",
            "32/32 [==============================] - 3s 97ms/step - loss: 0.1643 - accuracy: 0.9360 - val_loss: 2.2258 - val_accuracy: 0.4516\n",
            "\n",
            "Epoch 00038: val_accuracy did not improve from 0.83871\n",
            "Epoch 39/100\n",
            "32/32 [==============================] - 3s 99ms/step - loss: 0.2287 - accuracy: 0.9320 - val_loss: 2.0724 - val_accuracy: 0.4516\n",
            "\n",
            "Epoch 00039: val_accuracy did not improve from 0.83871\n",
            "Epoch 40/100\n",
            "32/32 [==============================] - 3s 98ms/step - loss: 0.1856 - accuracy: 0.9240 - val_loss: 2.7023 - val_accuracy: 0.5806\n",
            "\n",
            "Epoch 00040: val_accuracy did not improve from 0.83871\n",
            "Epoch 41/100\n",
            "32/32 [==============================] - 3s 99ms/step - loss: 0.1732 - accuracy: 0.9240 - val_loss: 0.5419 - val_accuracy: 0.6774\n",
            "\n",
            "Epoch 00041: val_accuracy did not improve from 0.83871\n",
            "Epoch 42/100\n",
            "32/32 [==============================] - 3s 98ms/step - loss: 0.1515 - accuracy: 0.9360 - val_loss: 1.9685 - val_accuracy: 0.5806\n",
            "\n",
            "Epoch 00042: val_accuracy did not improve from 0.83871\n",
            "Epoch 43/100\n",
            "32/32 [==============================] - 3s 96ms/step - loss: 0.1895 - accuracy: 0.9220 - val_loss: 2.9146 - val_accuracy: 0.4839\n",
            "\n",
            "Epoch 00043: val_accuracy did not improve from 0.83871\n",
            "Epoch 44/100\n",
            "32/32 [==============================] - 3s 99ms/step - loss: 0.1639 - accuracy: 0.9340 - val_loss: 0.4877 - val_accuracy: 0.7419\n",
            "\n",
            "Epoch 00044: val_accuracy did not improve from 0.83871\n",
            "Epoch 45/100\n",
            "32/32 [==============================] - 3s 100ms/step - loss: 0.1414 - accuracy: 0.9500 - val_loss: 1.4541 - val_accuracy: 0.4516\n",
            "\n",
            "Epoch 00045: val_accuracy did not improve from 0.83871\n",
            "Epoch 46/100\n",
            "32/32 [==============================] - 3s 100ms/step - loss: 0.1756 - accuracy: 0.9360 - val_loss: 1.3275 - val_accuracy: 0.6774\n",
            "\n",
            "Epoch 00046: val_accuracy did not improve from 0.83871\n",
            "Epoch 47/100\n",
            "32/32 [==============================] - 3s 97ms/step - loss: 0.1285 - accuracy: 0.9500 - val_loss: 2.9242 - val_accuracy: 0.4516\n",
            "\n",
            "Epoch 00047: val_accuracy did not improve from 0.83871\n",
            "Epoch 48/100\n",
            "32/32 [==============================] - 3s 97ms/step - loss: 0.1179 - accuracy: 0.9500 - val_loss: 1.7550 - val_accuracy: 0.6452\n",
            "\n",
            "Epoch 00048: val_accuracy did not improve from 0.83871\n",
            "Epoch 49/100\n",
            "32/32 [==============================] - 3s 98ms/step - loss: 0.0814 - accuracy: 0.9700 - val_loss: 1.6525 - val_accuracy: 0.6452\n",
            "\n",
            "Epoch 00049: val_accuracy did not improve from 0.83871\n",
            "Epoch 50/100\n",
            "32/32 [==============================] - 3s 97ms/step - loss: 0.1058 - accuracy: 0.9600 - val_loss: 2.0271 - val_accuracy: 0.4516\n",
            "\n",
            "Epoch 00050: val_accuracy did not improve from 0.83871\n",
            "Epoch 51/100\n",
            "32/32 [==============================] - 3s 97ms/step - loss: 0.2955 - accuracy: 0.8600 - val_loss: 2.2418 - val_accuracy: 0.6452\n",
            "\n",
            "Epoch 00051: val_accuracy did not improve from 0.83871\n",
            "Epoch 52/100\n",
            "32/32 [==============================] - 3s 99ms/step - loss: 0.2219 - accuracy: 0.9360 - val_loss: 1.2948 - val_accuracy: 0.7419\n",
            "\n",
            "Epoch 00052: val_accuracy did not improve from 0.83871\n",
            "Epoch 53/100\n",
            "32/32 [==============================] - 3s 98ms/step - loss: 0.1142 - accuracy: 0.9560 - val_loss: 3.7598 - val_accuracy: 0.4516\n",
            "\n",
            "Epoch 00053: val_accuracy did not improve from 0.83871\n",
            "Epoch 54/100\n",
            "32/32 [==============================] - 3s 101ms/step - loss: 0.0983 - accuracy: 0.9640 - val_loss: 0.6297 - val_accuracy: 0.6452\n",
            "\n",
            "Epoch 00054: val_accuracy did not improve from 0.83871\n",
            "Epoch 55/100\n",
            "32/32 [==============================] - 3s 100ms/step - loss: 0.0654 - accuracy: 0.9800 - val_loss: 1.9179 - val_accuracy: 0.5806\n",
            "\n",
            "Epoch 00055: val_accuracy did not improve from 0.83871\n",
            "Epoch 56/100\n",
            "32/32 [==============================] - 3s 98ms/step - loss: 0.1055 - accuracy: 0.9540 - val_loss: 1.2153 - val_accuracy: 0.6129\n",
            "\n",
            "Epoch 00056: val_accuracy did not improve from 0.83871\n",
            "Epoch 57/100\n",
            "32/32 [==============================] - 3s 98ms/step - loss: 0.0687 - accuracy: 0.9760 - val_loss: 2.3014 - val_accuracy: 0.4516\n",
            "\n",
            "Epoch 00057: val_accuracy did not improve from 0.83871\n",
            "Epoch 58/100\n",
            "32/32 [==============================] - 3s 98ms/step - loss: 0.1073 - accuracy: 0.9600 - val_loss: 2.4411 - val_accuracy: 0.4516\n",
            "\n",
            "Epoch 00058: val_accuracy did not improve from 0.83871\n",
            "Epoch 59/100\n",
            "32/32 [==============================] - 3s 96ms/step - loss: 0.1317 - accuracy: 0.9540 - val_loss: 2.6982 - val_accuracy: 0.5806\n",
            "\n",
            "Epoch 00059: val_accuracy did not improve from 0.83871\n",
            "Epoch 60/100\n",
            "32/32 [==============================] - 3s 98ms/step - loss: 0.2367 - accuracy: 0.9140 - val_loss: 2.1251 - val_accuracy: 0.4516\n",
            "\n",
            "Epoch 00060: val_accuracy did not improve from 0.83871\n",
            "Epoch 61/100\n",
            "32/32 [==============================] - 3s 97ms/step - loss: 0.0828 - accuracy: 0.9680 - val_loss: 4.1384 - val_accuracy: 0.5484\n",
            "\n",
            "Epoch 00061: val_accuracy did not improve from 0.83871\n",
            "Epoch 62/100\n",
            "32/32 [==============================] - 3s 96ms/step - loss: 0.0751 - accuracy: 0.9660 - val_loss: 2.6787 - val_accuracy: 0.6774\n",
            "\n",
            "Epoch 00062: val_accuracy did not improve from 0.83871\n",
            "Epoch 63/100\n",
            "32/32 [==============================] - 3s 97ms/step - loss: 0.0505 - accuracy: 0.9740 - val_loss: 3.2004 - val_accuracy: 0.5806\n",
            "\n",
            "Epoch 00063: val_accuracy did not improve from 0.83871\n",
            "Epoch 64/100\n",
            "32/32 [==============================] - 3s 98ms/step - loss: 0.1332 - accuracy: 0.9460 - val_loss: 4.9895 - val_accuracy: 0.4516\n",
            "\n",
            "Epoch 00064: val_accuracy did not improve from 0.83871\n",
            "Epoch 65/100\n",
            "32/32 [==============================] - 3s 99ms/step - loss: 0.1917 - accuracy: 0.9300 - val_loss: 2.3154 - val_accuracy: 0.6774\n",
            "\n",
            "Epoch 00065: val_accuracy did not improve from 0.83871\n",
            "Epoch 66/100\n",
            "32/32 [==============================] - 3s 97ms/step - loss: 0.0628 - accuracy: 0.9800 - val_loss: 2.0988 - val_accuracy: 0.4516\n",
            "\n",
            "Epoch 00066: val_accuracy did not improve from 0.83871\n",
            "Epoch 67/100\n",
            "32/32 [==============================] - 3s 98ms/step - loss: 0.0843 - accuracy: 0.9600 - val_loss: 2.6636 - val_accuracy: 0.4516\n",
            "\n",
            "Epoch 00067: val_accuracy did not improve from 0.83871\n",
            "Epoch 68/100\n",
            "32/32 [==============================] - 3s 96ms/step - loss: 0.1184 - accuracy: 0.9560 - val_loss: 1.9697 - val_accuracy: 0.4516\n",
            "\n",
            "Epoch 00068: val_accuracy did not improve from 0.83871\n",
            "Epoch 69/100\n",
            "32/32 [==============================] - 3s 96ms/step - loss: 0.0773 - accuracy: 0.9680 - val_loss: 3.5366 - val_accuracy: 0.4516\n",
            "\n",
            "Epoch 00069: val_accuracy did not improve from 0.83871\n",
            "Epoch 70/100\n",
            "32/32 [==============================] - 3s 97ms/step - loss: 0.1504 - accuracy: 0.9500 - val_loss: 1.7486 - val_accuracy: 0.5484\n",
            "\n",
            "Epoch 00070: val_accuracy did not improve from 0.83871\n",
            "Epoch 71/100\n",
            "32/32 [==============================] - 3s 97ms/step - loss: 0.1057 - accuracy: 0.9700 - val_loss: 1.5442 - val_accuracy: 0.6129\n",
            "\n",
            "Epoch 00071: val_accuracy did not improve from 0.83871\n",
            "Epoch 72/100\n",
            "32/32 [==============================] - 3s 96ms/step - loss: 0.0691 - accuracy: 0.9780 - val_loss: 1.5936 - val_accuracy: 0.4839\n",
            "\n",
            "Epoch 00072: val_accuracy did not improve from 0.83871\n",
            "Epoch 73/100\n",
            "32/32 [==============================] - 3s 97ms/step - loss: 0.1164 - accuracy: 0.9600 - val_loss: 1.6644 - val_accuracy: 0.6452\n",
            "\n",
            "Epoch 00073: val_accuracy did not improve from 0.83871\n",
            "Epoch 74/100\n",
            "32/32 [==============================] - 3s 97ms/step - loss: 0.1701 - accuracy: 0.9400 - val_loss: 0.3912 - val_accuracy: 0.8065\n",
            "\n",
            "Epoch 00074: val_accuracy did not improve from 0.83871\n",
            "Epoch 75/100\n",
            "32/32 [==============================] - 3s 97ms/step - loss: 0.2737 - accuracy: 0.8920 - val_loss: 1.2895 - val_accuracy: 0.7097\n",
            "\n",
            "Epoch 00075: val_accuracy did not improve from 0.83871\n",
            "Epoch 76/100\n",
            "32/32 [==============================] - 3s 96ms/step - loss: 0.1543 - accuracy: 0.9560 - val_loss: 1.1823 - val_accuracy: 0.7419\n",
            "\n",
            "Epoch 00076: val_accuracy did not improve from 0.83871\n",
            "Epoch 77/100\n",
            "32/32 [==============================] - 3s 96ms/step - loss: 0.2691 - accuracy: 0.9080 - val_loss: 0.8519 - val_accuracy: 0.5806\n",
            "\n",
            "Epoch 00077: val_accuracy did not improve from 0.83871\n",
            "Epoch 78/100\n",
            "32/32 [==============================] - 3s 98ms/step - loss: 0.1639 - accuracy: 0.9680 - val_loss: 0.5629 - val_accuracy: 0.6452\n",
            "\n",
            "Epoch 00078: val_accuracy did not improve from 0.83871\n",
            "Epoch 79/100\n",
            "32/32 [==============================] - 3s 96ms/step - loss: 0.1318 - accuracy: 0.9720 - val_loss: 0.9319 - val_accuracy: 0.4516\n",
            "\n",
            "Epoch 00079: val_accuracy did not improve from 0.83871\n",
            "Epoch 80/100\n",
            "32/32 [==============================] - 3s 97ms/step - loss: 0.1094 - accuracy: 0.9780 - val_loss: 0.7382 - val_accuracy: 0.5484\n",
            "\n",
            "Epoch 00080: val_accuracy did not improve from 0.83871\n",
            "Epoch 81/100\n",
            "32/32 [==============================] - 3s 96ms/step - loss: 0.1027 - accuracy: 0.9640 - val_loss: 3.5693 - val_accuracy: 0.4516\n",
            "\n",
            "Epoch 00081: val_accuracy did not improve from 0.83871\n",
            "Epoch 82/100\n",
            "32/32 [==============================] - 3s 96ms/step - loss: 0.1930 - accuracy: 0.9220 - val_loss: 1.4823 - val_accuracy: 0.6774\n",
            "\n",
            "Epoch 00082: val_accuracy did not improve from 0.83871\n",
            "Epoch 83/100\n",
            "32/32 [==============================] - 3s 96ms/step - loss: 0.1381 - accuracy: 0.9560 - val_loss: 3.1480 - val_accuracy: 0.6774\n",
            "\n",
            "Epoch 00083: val_accuracy did not improve from 0.83871\n",
            "Epoch 84/100\n",
            "32/32 [==============================] - 3s 99ms/step - loss: 0.0669 - accuracy: 0.9660 - val_loss: 2.3622 - val_accuracy: 0.4516\n",
            "\n",
            "Epoch 00084: val_accuracy did not improve from 0.83871\n",
            "Epoch 85/100\n",
            "32/32 [==============================] - 3s 96ms/step - loss: 0.0574 - accuracy: 0.9800 - val_loss: 3.1606 - val_accuracy: 0.4839\n",
            "\n",
            "Epoch 00085: val_accuracy did not improve from 0.83871\n",
            "Epoch 86/100\n",
            "32/32 [==============================] - 3s 97ms/step - loss: 0.1077 - accuracy: 0.9620 - val_loss: 2.8606 - val_accuracy: 0.6774\n",
            "\n",
            "Epoch 00086: val_accuracy did not improve from 0.83871\n",
            "Epoch 87/100\n",
            "32/32 [==============================] - 3s 97ms/step - loss: 0.0867 - accuracy: 0.9740 - val_loss: 1.9991 - val_accuracy: 0.5161\n",
            "\n",
            "Epoch 00087: val_accuracy did not improve from 0.83871\n",
            "Epoch 88/100\n",
            "32/32 [==============================] - 3s 97ms/step - loss: 0.0879 - accuracy: 0.9620 - val_loss: 2.9131 - val_accuracy: 0.4839\n",
            "\n",
            "Epoch 00088: val_accuracy did not improve from 0.83871\n",
            "Epoch 89/100\n",
            "32/32 [==============================] - 3s 96ms/step - loss: 0.0878 - accuracy: 0.9740 - val_loss: 2.7994 - val_accuracy: 0.4516\n",
            "\n",
            "Epoch 00089: val_accuracy did not improve from 0.83871\n",
            "Epoch 90/100\n",
            "32/32 [==============================] - 3s 96ms/step - loss: 0.1937 - accuracy: 0.9280 - val_loss: 3.6337 - val_accuracy: 0.4516\n",
            "\n",
            "Epoch 00090: val_accuracy did not improve from 0.83871\n",
            "Epoch 91/100\n",
            "32/32 [==============================] - 3s 96ms/step - loss: 0.2312 - accuracy: 0.9080 - val_loss: 2.0470 - val_accuracy: 0.4839\n",
            "\n",
            "Epoch 00091: val_accuracy did not improve from 0.83871\n",
            "Epoch 92/100\n",
            "32/32 [==============================] - 3s 96ms/step - loss: 0.0956 - accuracy: 0.9660 - val_loss: 4.3960 - val_accuracy: 0.4516\n",
            "\n",
            "Epoch 00092: val_accuracy did not improve from 0.83871\n",
            "Epoch 93/100\n",
            "32/32 [==============================] - 3s 96ms/step - loss: 0.1389 - accuracy: 0.9500 - val_loss: 2.1292 - val_accuracy: 0.5161\n",
            "\n",
            "Epoch 00093: val_accuracy did not improve from 0.83871\n",
            "Epoch 94/100\n",
            "32/32 [==============================] - 3s 96ms/step - loss: 0.0896 - accuracy: 0.9740 - val_loss: 2.7775 - val_accuracy: 0.4516\n",
            "\n",
            "Epoch 00094: val_accuracy did not improve from 0.83871\n",
            "Epoch 95/100\n",
            "32/32 [==============================] - 3s 96ms/step - loss: 0.0409 - accuracy: 0.9840 - val_loss: 3.1929 - val_accuracy: 0.4839\n",
            "\n",
            "Epoch 00095: val_accuracy did not improve from 0.83871\n",
            "Epoch 96/100\n",
            "32/32 [==============================] - 3s 96ms/step - loss: 0.1601 - accuracy: 0.9440 - val_loss: 2.5233 - val_accuracy: 0.4516\n",
            "\n",
            "Epoch 00096: val_accuracy did not improve from 0.83871\n",
            "Epoch 97/100\n",
            "32/32 [==============================] - 3s 96ms/step - loss: 0.1110 - accuracy: 0.9520 - val_loss: 0.6741 - val_accuracy: 0.7419\n",
            "\n",
            "Epoch 00097: val_accuracy did not improve from 0.83871\n",
            "Epoch 98/100\n",
            "32/32 [==============================] - 3s 97ms/step - loss: 0.1901 - accuracy: 0.9340 - val_loss: 2.2150 - val_accuracy: 0.4839\n",
            "\n",
            "Epoch 00098: val_accuracy did not improve from 0.83871\n",
            "Epoch 99/100\n",
            "32/32 [==============================] - 3s 96ms/step - loss: 0.1355 - accuracy: 0.9580 - val_loss: 1.7726 - val_accuracy: 0.5161\n",
            "\n",
            "Epoch 00099: val_accuracy did not improve from 0.83871\n",
            "Epoch 100/100\n",
            "32/32 [==============================] - 3s 96ms/step - loss: 0.0995 - accuracy: 0.9620 - val_loss: 3.1933 - val_accuracy: 0.4516\n",
            "\n",
            "Epoch 00100: val_accuracy did not improve from 0.83871\n"
          ],
          "name": "stdout"
        }
      ]
    },
    {
      "cell_type": "code",
      "metadata": {
        "id": "K59QtXezLV7Q",
        "colab_type": "code",
        "colab": {
          "base_uri": "https://localhost:8080/",
          "height": 545
        },
        "outputId": "d0fd5a2e-24b2-4474-90eb-c7cb614d43f2"
      },
      "source": [
        "def plot_history(history): \n",
        "    acc = history.history['accuracy'] \n",
        "    val_acc = history.history['val_accuracy'] \n",
        "    loss = history.history['loss'] \n",
        "    val_loss = history.history['val_loss'] \n",
        "    epochs = range(1, len(acc) + 1) \n",
        "    \n",
        "    plt.figure() \n",
        "    plt.title('Training and validation accuracy') \n",
        "    plt.plot(epochs, acc, 'bo', label='Training acc')\n",
        "    plt.plot(epochs, val_acc, 'b', color='red', \\\n",
        "      label='Validation acc') \n",
        "    plt.legend() \n",
        "    plt.show() \n",
        "   \n",
        "    plt.figure() \n",
        "    plt.title('Training and validation loss')\n",
        "    plt.plot(epochs, loss, 'bo', label='Training loss')\n",
        "    plt.plot(epochs, val_loss, 'b', color='red', \\\n",
        "      label='Validation loss') \n",
        "    plt.legend() \n",
        "    plt.show() \n",
        "    return acc, val_acc, loss, val_loss \n",
        "\n",
        "acc, val_acc, loss, val_loss = plot_history(history)"
      ],
      "execution_count": 73,
      "outputs": [
        {
          "output_type": "display_data",
          "data": {
            "image/png": "[encoded data removed]",
            "text/plain": [
              "<Figure size 432x288 with 1 Axes>"
            ]
          },
          "metadata": {
            "tags": [],
            "needs_background": "light"
          }
        },
        {
          "output_type": "display_data",
          "data": {
            "image/png": "[encoded data removed]",
            "text/plain": [
              "<Figure size 432x288 with 1 Axes>"
            ]
          },
          "metadata": {
            "tags": [],
            "needs_background": "light"
          }
        }
      ]
    },
    {
      "cell_type": "code",
      "metadata": {
        "id": "gs6ckcFQLl6_",
        "colab_type": "code",
        "colab": {
          "base_uri": "https://localhost:8080/",
          "height": 34
        },
        "outputId": "2e58e5d4-75ee-4a9e-f72e-091cad66b12e"
      },
      "source": [
        "cd '/content/drive/My Drive/TEST1'"
      ],
      "execution_count": 74,
      "outputs": [
        {
          "output_type": "stream",
          "text": [
            "/content/drive/My Drive/TEST1\n"
          ],
          "name": "stdout"
        }
      ]
    },
    {
      "cell_type": "code",
      "metadata": {
        "id": "MWfDktW-nOal",
        "colab_type": "code",
        "colab": {}
      },
      "source": [
        "model = load_model('model.31-0.94.hdf5')"
      ],
      "execution_count": 0,
      "outputs": []
    },
    {
      "cell_type": "code",
      "metadata": {
        "id": "QTvRL0NlnzxH",
        "colab_type": "code",
        "colab": {
          "base_uri": "https://localhost:8080/",
          "height": 71
        },
        "outputId": "7a1f78fe-3183-434e-e2f7-8002ece20108"
      },
      "source": [
        "model = load_model('model.04-0.84.hdf5')"
      ],
      "execution_count": 75,
      "outputs": [
        {
          "output_type": "stream",
          "text": [
            "/usr/local/lib/python3.6/dist-packages/keras/engine/saving.py:384: UserWarning: Error in loading the saved optimizer state. As a result, your model is starting with a freshly initialized optimizer.\n",
            "  warnings.warn('Error in loading the saved optimizer '\n"
          ],
          "name": "stderr"
        }
      ]
    },
    {
      "cell_type": "code",
      "metadata": {
        "id": "IBLZs1kMnaC6",
        "colab_type": "code",
        "colab": {}
      },
      "source": [
        "classes = ['CNV',  'NORMAL']\n",
        "\n",
        "def preprocess_input(x):\n",
        "    x = img_to_array(x) / 255.\n",
        "    return np.expand_dims(x, axis=0) \n",
        "\n",
        "# Prediction for an image path in the local directory\n",
        "def predict_from_image_path(image_path):\n",
        "    return predict_image(load_img(image_path, target_size=(299, 299)))\n",
        "\n",
        "# Prediction for an image URL path\n",
        "def predict_from_image_url(image_url):\n",
        "    res = requests.get(image_url)\n",
        "    im = Image.open(BytesIO(res.content))\n",
        "    return predict_from_image_path(im.fp)\n",
        "    \n",
        "# Predict an image\n",
        "def predict_image(im):\n",
        "    x = preprocess_input(im)\n",
        "    pred = np.argmax(model.predict(x))\n",
        "    return pred, classes[pred]"
      ],
      "execution_count": 0,
      "outputs": []
    },
    {
      "cell_type": "code",
      "metadata": {
        "id": "lHQXkyXhnPtU",
        "colab_type": "code",
        "colab": {
          "base_uri": "https://localhost:8080/",
          "height": 34
        },
        "outputId": "d187e0bf-7e5c-4063-ab63-7efdc7ad7357"
      },
      "source": [
        "#Picture with CNV\n",
        "print(predict_from_image_path('/content/drive/My Drive/TEST2/CNV/test2c.jpeg'))"
      ],
      "execution_count": 77,
      "outputs": [
        {
          "output_type": "stream",
          "text": [
            "(0, 'CNV')\n"
          ],
          "name": "stdout"
        }
      ]
    },
    {
      "cell_type": "code",
      "metadata": {
        "id": "jmk73ohjoG1Q",
        "colab_type": "code",
        "colab": {
          "base_uri": "https://localhost:8080/",
          "height": 34
        },
        "outputId": "6c940290-691f-4705-8f95-75c9de502ad7"
      },
      "source": [
        "#Picture without an eye disease\n",
        "print(predict_from_image_path('/content/drive/My Drive/TEST2/CNV/test1n.jpeg'))"
      ],
      "execution_count": 78,
      "outputs": [
        {
          "output_type": "stream",
          "text": [
            "(1, 'NORMAL')\n"
          ],
          "name": "stdout"
        }
      ]
    },
    {
      "cell_type": "code",
      "metadata": {
        "id": "syZs5i1iqTN8",
        "colab_type": "code",
        "colab": {
          "base_uri": "https://localhost:8080/",
          "height": 34
        },
        "outputId": "1273978f-9b36-4948-d776-99b866810cb9"
      },
      "source": [
        "#CNV again\n",
        "print(predict_from_image_path('/content/drive/My Drive/TEST2/CNV/no-disease-cnv-28682-8.jpeg'))"
      ],
      "execution_count": 79,
      "outputs": [
        {
          "output_type": "stream",
          "text": [
            "(0, 'CNV')\n"
          ],
          "name": "stdout"
        }
      ]
    },
    {
      "cell_type": "code",
      "metadata": {
        "id": "9sR10KOaqlf6",
        "colab_type": "code",
        "colab": {}
      },
      "source": [
        ""
      ],
      "execution_count": 0,
      "outputs": []
    }
  ]
}