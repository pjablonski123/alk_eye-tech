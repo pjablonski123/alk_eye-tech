{
  "nbformat": 4,
  "nbformat_minor": 0,
  "metadata": {
    "colab": {
      "name": "eva-alk-p1",
      "provenance": [],
      "mount_file_id": "1WtcXGZobVoQKAOrrx5amxD0mD1fRfnNa",
      "authorship_tag": "ABX9TyMI5Bhj0vevr36MuIJWZKsA",
      "include_colab_link": true
    },
    "kernelspec": {
      "name": "python3",
      "display_name": "Python 3"
    },
    "accelerator": "GPU"
  },
  "cells": [
    {
      "cell_type": "markdown",
      "metadata": {
        "id": "view-in-github",
        "colab_type": "text"
      },
      "source": [
        "<a href=\"https://colab.research.google.com/github/pjablonski123/alk_eye-tech/blob/master/eva_alk_p1-v3.ipynb\" target=\"_parent\"><img src=\"https://colab.research.google.com/assets/colab-badge.svg\" alt=\"Open In Colab\"/></a>"
      ]
    },
    {
      "cell_type": "code",
      "metadata": {
        "id": "Clh5cxfJ3RHq",
        "colab_type": "code",
        "colab": {}
      },
      "source": [
        "import keras\n",
        "import numpy as np\n",
        "from keras.preprocessing.image import ImageDataGenerator \n",
        "from keras.applications.inception_v3 import InceptionV3 \n",
        "from keras.layers import Dense, GlobalAveragePooling2D, Dropout\n",
        "from keras.preprocessing.image import ImageDataGenerator, load_img, img_to_array\n",
        "from keras.models import Model \n",
        "from keras.models import Sequential\n",
        "from keras import optimizers \n",
        "from keras import layers\n",
        "from keras import models\n",
        "import matplotlib.pyplot as plt \n",
        "%matplotlib inline\n",
        "from keras.models import load_model"
      ],
      "execution_count": 0,
      "outputs": []
    },
    {
      "cell_type": "code",
      "metadata": {
        "id": "c_4Q70Ly3Wlf",
        "colab_type": "code",
        "outputId": "58fafe07-2c58-413d-b08a-7db92118d46c",
        "colab": {
          "base_uri": "https://localhost:8080/",
          "height": 34
        }
      },
      "source": [
        "cd '/content/drive/My Drive/TEST1'"
      ],
      "execution_count": 83,
      "outputs": [
        {
          "output_type": "stream",
          "text": [
            "/content/drive/My Drive/TEST1\n"
          ],
          "name": "stdout"
        }
      ]
    },
    {
      "cell_type": "code",
      "metadata": {
        "id": "Uq0jL2uEe3nq",
        "colab_type": "code",
        "colab": {}
      },
      "source": [
        "# pre-trained Inception V3 model \n",
        "base_model = InceptionV3(weights='imagenet', include_top=False) \n",
        "base_model.trainable = False\n",
        "\n",
        "model = models.Sequential()\n",
        "model.add(base_model)\n",
        "\n",
        "model.add(GlobalAveragePooling2D())\n",
        "model.add(layers.Dense(64, activation='relu')) \n",
        "model.add(Dropout(0.5))\n",
        "model.add(layers.Dense(2, activation='softmax'))\n",
        "\n",
        "adam = optimizers.adam(lr=0.0001)\n",
        "model.compile(optimizer=adam, loss='categorical_crossentropy', \n",
        "              metrics=['accuracy'])"
      ],
      "execution_count": 0,
      "outputs": []
    },
    {
      "cell_type": "code",
      "metadata": {
        "id": "1GaFfpZI1Mus",
        "colab_type": "code",
        "colab": {
          "base_uri": "https://localhost:8080/",
          "height": 323
        },
        "outputId": "435b0116-58e1-4dc5-fa60-3bf613ea5155"
      },
      "source": [
        "model.summary()"
      ],
      "execution_count": 85,
      "outputs": [
        {
          "output_type": "stream",
          "text": [
            "Model: \"sequential_6\"\n",
            "_________________________________________________________________\n",
            "Layer (type)                 Output Shape              Param #   \n",
            "=================================================================\n",
            "inception_v3 (Model)         (None, None, None, 2048)  21802784  \n",
            "_________________________________________________________________\n",
            "global_average_pooling2d_6 ( (None, 2048)              0         \n",
            "_________________________________________________________________\n",
            "dense_11 (Dense)             (None, 64)                131136    \n",
            "_________________________________________________________________\n",
            "dropout_6 (Dropout)          (None, 64)                0         \n",
            "_________________________________________________________________\n",
            "dense_12 (Dense)             (None, 2)                 130       \n",
            "=================================================================\n",
            "Total params: 21,934,050\n",
            "Trainable params: 131,266\n",
            "Non-trainable params: 21,802,784\n",
            "_________________________________________________________________\n"
          ],
          "name": "stdout"
        }
      ]
    },
    {
      "cell_type": "code",
      "metadata": {
        "id": "RVig2h_-9E36",
        "colab_type": "code",
        "colab": {}
      },
      "source": [
        "train_datagen = ImageDataGenerator(rescale=1./255) \n",
        "test_datagen = ImageDataGenerator(rescale=1./255) \n",
        "train_dir = '/content/drive/My Drive/TEST1/' \n",
        "test_dir = '/content/drive/My Drive/TEST2/'"
      ],
      "execution_count": 0,
      "outputs": []
    },
    {
      "cell_type": "code",
      "metadata": {
        "id": "jYWEYv5n9alC",
        "colab_type": "code",
        "outputId": "5a62eedc-9361-4d54-9076-164bbdd102e3",
        "colab": {
          "base_uri": "https://localhost:8080/",
          "height": 51
        }
      },
      "source": [
        "train_generator = train_datagen.flow_from_directory( train_dir,\n",
        "  target_size=(299, 299), batch_size=10, class_mode='categorical')\n",
        "\n",
        "test_generator = test_datagen.flow_from_directory( test_dir,\n",
        "  target_size=(299, 299), batch_size=10, class_mode='categorical')"
      ],
      "execution_count": 87,
      "outputs": [
        {
          "output_type": "stream",
          "text": [
            "Found 717 images belonging to 2 classes.\n",
            "Found 196 images belonging to 2 classes.\n"
          ],
          "name": "stdout"
        }
      ]
    },
    {
      "cell_type": "code",
      "metadata": {
        "id": "f3VZpDeDIujA",
        "colab_type": "code",
        "colab": {}
      },
      "source": [
        "# Setup a callback to save the best model \n",
        "callbacks = [keras.callbacks.ModelCheckpoint(\n",
        "  'model.{epoch:02d}-{val_accuracy:.2f}.hdf5', \n",
        "  monitor='val_accuracy', verbose=1, save_best_only=True, \n",
        "  mode='max', period=1)]"
      ],
      "execution_count": 0,
      "outputs": []
    },
    {
      "cell_type": "code",
      "metadata": {
        "id": "PAyz__fzLQET",
        "colab_type": "code",
        "outputId": "21d48a88-ebbd-44e4-eb5a-44f67b79da4f",
        "colab": {
          "base_uri": "https://localhost:8080/",
          "height": 1000
        }
      },
      "source": [
        "history = model.fit_generator(train_generator, verbose=1, \n",
        "  steps_per_epoch=len(train_generator), epochs=20,\n",
        "  validation_data=test_generator,\n",
        "  validation_steps=len(test_generator), callbacks=callbacks)"
      ],
      "execution_count": 89,
      "outputs": [
        {
          "output_type": "stream",
          "text": [
            "Epoch 1/20\n",
            "72/72 [==============================] - 13s 181ms/step - loss: 0.6128 - accuracy: 0.7127 - val_loss: 0.8682 - val_accuracy: 0.1071\n",
            "\n",
            "Epoch 00001: val_accuracy improved from -inf to 0.10714, saving model to model.01-0.11.hdf5\n",
            "Epoch 2/20\n",
            "72/72 [==============================] - 9s 118ms/step - loss: 0.4663 - accuracy: 0.7908 - val_loss: 0.7351 - val_accuracy: 0.1888\n",
            "\n",
            "Epoch 00002: val_accuracy improved from 0.10714 to 0.18878, saving model to model.02-0.19.hdf5\n",
            "Epoch 3/20\n",
            "72/72 [==============================] - 9s 118ms/step - loss: 0.3731 - accuracy: 0.8438 - val_loss: 0.5283 - val_accuracy: 0.8827\n",
            "\n",
            "Epoch 00003: val_accuracy improved from 0.18878 to 0.88265, saving model to model.03-0.88.hdf5\n",
            "Epoch 4/20\n",
            "72/72 [==============================] - 8s 118ms/step - loss: 0.3129 - accuracy: 0.8759 - val_loss: 0.7604 - val_accuracy: 0.7500\n",
            "\n",
            "Epoch 00004: val_accuracy did not improve from 0.88265\n",
            "Epoch 5/20\n",
            "72/72 [==============================] - 9s 119ms/step - loss: 0.2917 - accuracy: 0.9038 - val_loss: 0.4132 - val_accuracy: 0.7296\n",
            "\n",
            "Epoch 00005: val_accuracy did not improve from 0.88265\n",
            "Epoch 6/20\n",
            "72/72 [==============================] - 9s 118ms/step - loss: 0.2373 - accuracy: 0.9219 - val_loss: 0.2512 - val_accuracy: 0.8673\n",
            "\n",
            "Epoch 00006: val_accuracy did not improve from 0.88265\n",
            "Epoch 7/20\n",
            "72/72 [==============================] - 8s 118ms/step - loss: 0.2149 - accuracy: 0.9219 - val_loss: 0.5633 - val_accuracy: 0.8367\n",
            "\n",
            "Epoch 00007: val_accuracy did not improve from 0.88265\n",
            "Epoch 8/20\n",
            "72/72 [==============================] - 8s 118ms/step - loss: 0.1968 - accuracy: 0.9303 - val_loss: 0.1625 - val_accuracy: 0.8520\n",
            "\n",
            "Epoch 00008: val_accuracy did not improve from 0.88265\n",
            "Epoch 9/20\n",
            "72/72 [==============================] - 8s 117ms/step - loss: 0.1731 - accuracy: 0.9386 - val_loss: 0.1138 - val_accuracy: 0.9388\n",
            "\n",
            "Epoch 00009: val_accuracy improved from 0.88265 to 0.93878, saving model to model.09-0.94.hdf5\n",
            "Epoch 10/20\n",
            "72/72 [==============================] - 9s 118ms/step - loss: 0.1645 - accuracy: 0.9470 - val_loss: 0.3905 - val_accuracy: 0.7500\n",
            "\n",
            "Epoch 00010: val_accuracy did not improve from 0.93878\n",
            "Epoch 11/20\n",
            "72/72 [==============================] - 9s 118ms/step - loss: 0.1519 - accuracy: 0.9484 - val_loss: 1.9048 - val_accuracy: 0.2653\n",
            "\n",
            "Epoch 00011: val_accuracy did not improve from 0.93878\n",
            "Epoch 12/20\n",
            "72/72 [==============================] - 8s 118ms/step - loss: 0.1633 - accuracy: 0.9372 - val_loss: 0.2095 - val_accuracy: 0.8673\n",
            "\n",
            "Epoch 00012: val_accuracy did not improve from 0.93878\n",
            "Epoch 13/20\n",
            "72/72 [==============================] - 8s 118ms/step - loss: 0.1501 - accuracy: 0.9512 - val_loss: 0.4504 - val_accuracy: 0.8418\n",
            "\n",
            "Epoch 00013: val_accuracy did not improve from 0.93878\n",
            "Epoch 14/20\n",
            "72/72 [==============================] - 8s 117ms/step - loss: 0.1732 - accuracy: 0.9358 - val_loss: 0.3035 - val_accuracy: 0.8827\n",
            "\n",
            "Epoch 00014: val_accuracy did not improve from 0.93878\n",
            "Epoch 15/20\n",
            "72/72 [==============================] - 8s 117ms/step - loss: 0.1506 - accuracy: 0.9456 - val_loss: 0.1528 - val_accuracy: 0.9286\n",
            "\n",
            "Epoch 00015: val_accuracy did not improve from 0.93878\n",
            "Epoch 16/20\n",
            "72/72 [==============================] - 8s 117ms/step - loss: 0.1237 - accuracy: 0.9623 - val_loss: 0.4683 - val_accuracy: 0.8265\n",
            "\n",
            "Epoch 00016: val_accuracy did not improve from 0.93878\n",
            "Epoch 17/20\n",
            "72/72 [==============================] - 8s 117ms/step - loss: 0.1250 - accuracy: 0.9540 - val_loss: 0.6882 - val_accuracy: 0.8214\n",
            "\n",
            "Epoch 00017: val_accuracy did not improve from 0.93878\n",
            "Epoch 18/20\n",
            "72/72 [==============================] - 8s 118ms/step - loss: 0.1013 - accuracy: 0.9735 - val_loss: 0.2380 - val_accuracy: 0.8316\n",
            "\n",
            "Epoch 00018: val_accuracy did not improve from 0.93878\n",
            "Epoch 19/20\n",
            "72/72 [==============================] - 8s 118ms/step - loss: 0.1203 - accuracy: 0.9582 - val_loss: 0.6269 - val_accuracy: 0.8010\n",
            "\n",
            "Epoch 00019: val_accuracy did not improve from 0.93878\n",
            "Epoch 20/20\n",
            "72/72 [==============================] - 8s 118ms/step - loss: 0.1127 - accuracy: 0.9609 - val_loss: 0.2103 - val_accuracy: 0.8980\n",
            "\n",
            "Epoch 00020: val_accuracy did not improve from 0.93878\n"
          ],
          "name": "stdout"
        }
      ]
    },
    {
      "cell_type": "code",
      "metadata": {
        "id": "K59QtXezLV7Q",
        "colab_type": "code",
        "colab": {
          "base_uri": "https://localhost:8080/",
          "height": 545
        },
        "outputId": "5021294b-058a-49d1-e443-691c6eef1b95"
      },
      "source": [
        "def plot_history(history): \n",
        "    acc = history.history['accuracy'] \n",
        "    val_acc = history.history['val_accuracy'] \n",
        "    loss = history.history['loss'] \n",
        "    val_loss = history.history['val_loss'] \n",
        "    epochs = range(1, len(acc) + 1) \n",
        "    \n",
        "    plt.figure() \n",
        "    plt.title('Training and validation accuracy') \n",
        "    plt.plot(epochs, acc, 'bo', label='Training acc')\n",
        "    plt.plot(epochs, val_acc, 'b', color='red', \\\n",
        "      label='Validation acc') \n",
        "    plt.legend() \n",
        "    plt.show() \n",
        "   \n",
        "    plt.figure() \n",
        "    plt.title('Training and validation loss')\n",
        "    plt.plot(epochs, loss, 'bo', label='Training loss')\n",
        "    plt.plot(epochs, val_loss, 'b', color='red', \\\n",
        "      label='Validation loss') \n",
        "    plt.legend() \n",
        "    plt.show() \n",
        "    return acc, val_acc, loss, val_loss \n",
        "\n",
        "acc, val_acc, loss, val_loss = plot_history(history)"
      ],
      "execution_count": 90,
      "outputs": [
        {
          "output_type": "display_data",
          "data": {
            "image/png": "[encoded data removed]",
            "text/plain": [
              "<Figure size 432x288 with 1 Axes>"
            ]
          },
          "metadata": {
            "tags": [],
            "needs_background": "light"
          }
        },
        {
          "output_type": "display_data",
          "data": {
            "image/png": "[encoded data removed]",
            "text/plain": [
              "<Figure size 432x288 with 1 Axes>"
            ]
          },
          "metadata": {
            "tags": [],
            "needs_background": "light"
          }
        }
      ]
    },
    {
      "cell_type": "code",
      "metadata": {
        "id": "gs6ckcFQLl6_",
        "colab_type": "code",
        "colab": {
          "base_uri": "https://localhost:8080/",
          "height": 34
        },
        "outputId": "8a838086-2bd4-4ccf-8bb7-01fd1ba7bd09"
      },
      "source": [
        "cd '/content/drive/My Drive/TEST1'"
      ],
      "execution_count": 67,
      "outputs": [
        {
          "output_type": "stream",
          "text": [
            "/content/drive/My Drive/TEST1\n"
          ],
          "name": "stdout"
        }
      ]
    },
    {
      "cell_type": "code",
      "metadata": {
        "id": "QTvRL0NlnzxH",
        "colab_type": "code",
        "colab": {}
      },
      "source": [
        "model.load_weights(\"model.09-0.94.hdf5\")\n",
        "\n",
        "#model = load_model('model.09-0.94.hdf5')"
      ],
      "execution_count": 0,
      "outputs": []
    },
    {
      "cell_type": "code",
      "metadata": {
        "id": "IBLZs1kMnaC6",
        "colab_type": "code",
        "colab": {}
      },
      "source": [
        "classes = ['CNV', 'NORMAL']\n",
        "\n",
        "def preprocess_input(x):\n",
        "    x = img_to_array(x) / 255.\n",
        "    return np.expand_dims(x, axis=0) \n",
        "\n",
        "# Prediction for an image path in the local directory\n",
        "def predict_from_image_path(image_path):\n",
        "    return predict_image(load_img(image_path, target_size=(299, 299)))\n",
        "\n",
        "# Prediction for an image URL path\n",
        "def predict_from_image_url(image_url):\n",
        "    res = requests.get(image_url)\n",
        "    im = Image.open(BytesIO(res.content))\n",
        "    return predict_from_image_path(im.fp)\n",
        "    \n",
        "# Predict an image\n",
        "def predict_image(im):\n",
        "    x = preprocess_input(im)\n",
        "    pred = np.argmax(model.predict(x))\n",
        "    return pred, classes[pred]"
      ],
      "execution_count": 0,
      "outputs": []
    },
    {
      "cell_type": "code",
      "metadata": {
        "id": "lHQXkyXhnPtU",
        "colab_type": "code",
        "colab": {
          "base_uri": "https://localhost:8080/",
          "height": 34
        },
        "outputId": "41581f08-97a8-47fb-d359-81fc3c6d307a"
      },
      "source": [
        "#Picture with CNV\n",
        "print(predict_from_image_path('/content/drive/My Drive/TEST2/test2c.jpeg'))"
      ],
      "execution_count": 93,
      "outputs": [
        {
          "output_type": "stream",
          "text": [
            "(0, 'CNV')\n"
          ],
          "name": "stdout"
        }
      ]
    },
    {
      "cell_type": "code",
      "metadata": {
        "id": "jmk73ohjoG1Q",
        "colab_type": "code",
        "colab": {
          "base_uri": "https://localhost:8080/",
          "height": 34
        },
        "outputId": "758dcde1-a036-4498-85e7-43c1c94d83c6"
      },
      "source": [
        "#Picture without an eye disease\n",
        "print(predict_from_image_path('/content/drive/My Drive/TEST2/test2n.jpeg'))"
      ],
      "execution_count": 94,
      "outputs": [
        {
          "output_type": "stream",
          "text": [
            "(1, 'NORMAL')\n"
          ],
          "name": "stdout"
        }
      ]
    },
    {
      "cell_type": "code",
      "metadata": {
        "id": "syZs5i1iqTN8",
        "colab_type": "code",
        "colab": {
          "base_uri": "https://localhost:8080/",
          "height": 34
        },
        "outputId": "cb99dd34-2863-4164-ae0b-5472dc0954d3"
      },
      "source": [
        "#CNV again\n",
        "print(predict_from_image_path('/content/drive/My Drive/TEST2/no-disease-cnv-28682-8.jpeg'))"
      ],
      "execution_count": 95,
      "outputs": [
        {
          "output_type": "stream",
          "text": [
            "(0, 'CNV')\n"
          ],
          "name": "stdout"
        }
      ]
    },
    {
      "cell_type": "code",
      "metadata": {
        "id": "9sR10KOaqlf6",
        "colab_type": "code",
        "colab": {
          "base_uri": "https://localhost:8080/",
          "height": 34
        },
        "outputId": "2315e2ac-b9ce-47e2-fe8f-e6283e69ab50"
      },
      "source": [
        "#NORMAL\n",
        "print(predict_from_image_path('/content/drive/My Drive/TEST2/test1n.jpeg'))"
      ],
      "execution_count": 96,
      "outputs": [
        {
          "output_type": "stream",
          "text": [
            "(1, 'NORMAL')\n"
          ],
          "name": "stdout"
        }
      ]
    },
    {
      "cell_type": "code",
      "metadata": {
        "id": "D2Aqk9ckZcxj",
        "colab_type": "code",
        "colab": {}
      },
      "source": [
        ""
      ],
      "execution_count": 0,
      "outputs": []
    }
  ]
}